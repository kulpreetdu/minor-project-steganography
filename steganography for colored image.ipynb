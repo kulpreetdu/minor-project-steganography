{
 "cells": [
  {
   "cell_type": "markdown",
   "metadata": {},
   "source": [
    "# Least bit steganography for color image"
   ]
  },
  {
   "cell_type": "markdown",
   "metadata": {},
   "source": [
    "# First image"
   ]
  },
  {
   "cell_type": "markdown",
   "metadata": {},
   "source": [
    "# On red channel"
   ]
  },
  {
   "cell_type": "code",
   "execution_count": 12,
   "metadata": {},
   "outputs": [
    {
     "name": "stdout",
     "output_type": "stream",
     "text": [
      "<PIL.Image.Image image mode=RGB size=275x183 at 0x532ECF8>\n",
      "<PIL.Image.Image image mode=1 size=275x183 at 0x53129B0>\n"
     ]
    }
   ],
   "source": [
    "# libraries for importing image\n",
    "from PIL import Image, ImageFont, ImageDraw\n",
    "import textwrap\n",
    "\n",
    "\n",
    "def decode_image(file_location=\"abc3.png\"):\n",
    "    \"\"\"Decodes the hidden message in an image\n",
    "    file_location: the location of the image file to decode. By default is the provided encoded image in the images folder\n",
    "    \"\"\"\n",
    "    encoded_image = Image.open(file_location)\n",
    "    red_channel = encoded_image.split()[0]\n",
    "\n",
    "    x_size = encoded_image.size[0]\n",
    "    y_size = encoded_image.size[1]\n",
    "\n",
    "    decoded_image = Image.new(\"RGB\", encoded_image.size)\n",
    "    pixels = decoded_image.load()\n",
    "\n",
    "    for i in range(x_size):\n",
    "        for j in range(y_size):\n",
    "            if bin(red_channel.getpixel((i, j)))[-1] == '0':\n",
    "                pixels[i, j] = (255, 255, 255)\n",
    "                #print(pixels[i, j])\n",
    "            else:\n",
    "                pixels[i, j] = (0,0,0)\n",
    "    \n",
    "    decoded_image.save(\"abc.png\")\n",
    "\n",
    "\n",
    "def write_text(text_to_write, image_size):\n",
    "    \"\"\"\n",
    "    Writes text to an RGB image. Automatically line wraps\n",
    "    text_to_write: the text to write to the image\n",
    "    \"\"\"\n",
    "    image_text = Image.new(\"RGB\", image_size)\n",
    "    font = ImageFont.load_default().font\n",
    "    drawer = ImageDraw.Draw(image_text)\n",
    "    \n",
    "    #Text wrapping. Change parameters for different text formatting\n",
    "    margin = offset = 10\n",
    "    for line in textwrap.wrap(text_to_write, width=60):\n",
    "        drawer.text((margin,offset), line, font=font)\n",
    "        offset += 10\n",
    "    return image_text\n",
    "\n",
    "\n",
    "def encode_image(text_to_encode, template_image=\"flowers.jpg\"):\n",
    "    \"\"\"Encodes a text message into an image\n",
    "    text_to_encode: the text to encode into the template image\n",
    "    template_image: the image to use for encoding. An image is provided by default.\n",
    "    \"\"\"\n",
    "    template_image = Image.open(template_image)\n",
    "    red_template = template_image.split()[0]\n",
    "    green_template = template_image.split()[1]\n",
    "    blue_template = template_image.split()[2]\n",
    "    #the size of the image\n",
    "    x_size = template_image.size[0]\n",
    "    y_size = template_image.size[1]\n",
    "\n",
    "    #text draw\n",
    "    #to hide the text in the image by calling write_text function\n",
    "    image_text = write_text(text_to_encode, template_image.size)\n",
    "    print(image_text)\n",
    "    # convert the hidden text image into grayscale image\n",
    "    bw_encode = image_text.convert('1')\n",
    "    print(bw_encode)\n",
    "    \n",
    "    #encode text into image\n",
    "    encoded_image = Image.new(\"RGB\", (x_size, y_size))\n",
    "    pixels = encoded_image.load()\n",
    "    for i in range(x_size):\n",
    "        for j in range(y_size):\n",
    "            red_template_pix = bin(red_template.getpixel((i,j)))\n",
    "            #print(red_template_pix)\n",
    "            old_pix = red_template.getpixel((i,j))\n",
    "            #print(old_pix)\n",
    "            tencode_pix = bin(bw_encode.getpixel((i,j)))\n",
    "\n",
    "            if tencode_pix[-1] == '1':\n",
    "                red_template_pix = red_template_pix[:-1] + '1'\n",
    "            else:\n",
    "                red_template_pix = red_template_pix[:-1] + '0'\n",
    "            pixels[i, j] = (int(red_template_pix, 2), green_template.getpixel((i,j)), blue_template.getpixel((i,j)))\n",
    "    encoded_image.save(\"abc3.png\")\n",
    "\n",
    "if __name__ == '__main__':\n",
    "    #decode_image()\n",
    "    encode_image(\"hello world \")\n",
    "    decode_image()\n",
    "\n",
    "\n"
   ]
  },
  {
   "cell_type": "markdown",
   "metadata": {},
   "source": [
    "# PEAK SIGNAL NOISE RATIO OF COLORED IMAGE"
   ]
  },
  {
   "cell_type": "code",
   "execution_count": 13,
   "metadata": {},
   "outputs": [
    {
     "name": "stdout",
     "output_type": "stream",
     "text": [
      "39.281433466005495\n"
     ]
    }
   ],
   "source": [
    "\"\"\"\n",
    "Signal-to-noise ratio numbers are all about the strength of the desired signal compared to the unwanted noise.\n",
    "The larger the number, the more the desired signal “stands out” \n",
    "in comparison to the noise, which means a clearer transmission of better technical quality. \n",
    "A negative number means the noise is stronger than the desired signal, which may spell trouble, \n",
    "such as a cell phone conversation that’s too garbled to understand.\n",
    "\"\"\"\n",
    "import numpy \n",
    "import math\n",
    "import cv2\n",
    "original1 = cv2.imread(\"flowers.jpg\")\n",
    "contrast1 = cv2.imread(\"abc3.png\",1)#stego image\n",
    "def psnr(img1, img2):\n",
    "    mse = numpy.mean( (img1 - img2) ** 2 )\n",
    "    #If you have a replica of your signal (image) that is noise free, \n",
    "    #you can calculate the correlation coefficient which is directly related to SNR.\n",
    "    #In this context there is no \"maximum SNR\" but will be the SNR for your entire image, \n",
    "    #meaning the power of your desired signal relative to everything else (distortions).\n",
    "    if mse == 0:\n",
    "        return 100\n",
    "    PIXEL_MAX = 255.0\n",
    "    return 20 * math.log10(PIXEL_MAX / math.sqrt(mse))\n",
    "\n",
    "d=psnr(original1,contrast1)\n",
    "print(d)# unit is in power(watts)\n"
   ]
  },
  {
   "cell_type": "markdown",
   "metadata": {},
   "source": [
    "# CONCATENATE TWO COLORED IMAGE"
   ]
  },
  {
   "cell_type": "code",
   "execution_count": 15,
   "metadata": {},
   "outputs": [],
   "source": [
    "import numpy as np\n",
    "img=np.concatenate((original1,contrast1),axis=1)\n",
    "#display(img)\n",
    "cv2.imshow(\"concatenated image\",img)\n",
    "cv2.waitKey(0)\n",
    "cv2.destroyAllWindows()"
   ]
  },
  {
   "cell_type": "markdown",
   "metadata": {},
   "source": [
    "# On green channel"
   ]
  },
  {
   "cell_type": "code",
   "execution_count": 59,
   "metadata": {},
   "outputs": [
    {
     "name": "stdout",
     "output_type": "stream",
     "text": [
      "<PIL.Image.Image image mode=RGB size=275x183 at 0x62A7240>\n",
      "<PIL.Image.Image image mode=1 size=275x183 at 0x62A7668>\n"
     ]
    }
   ],
   "source": [
    "# libraries for importing image\n",
    "from PIL import Image, ImageFont, ImageDraw\n",
    "import textwrap\n",
    "\n",
    "\n",
    "def decode_image(file_location=\"abc33.png\"):\n",
    "    \"\"\"Decodes the hidden message in an image\n",
    "    file_location: the location of the image file to decode. By default is the provided encoded image in the images folder\n",
    "    \"\"\"\n",
    "    encoded_image = Image.open(file_location)\n",
    "    red_channel = encoded_image.split()[0]\n",
    "\n",
    "    x_size = encoded_image.size[0]\n",
    "    y_size = encoded_image.size[1]\n",
    "\n",
    "    decoded_image = Image.new(\"RGB\", encoded_image.size)\n",
    "    pixels = decoded_image.load()\n",
    "\n",
    "    for i in range(x_size):\n",
    "        for j in range(y_size):\n",
    "            if bin(red_channel.getpixel((i, j)))[-1] == '0':\n",
    "                pixels[i, j] = (255, 255, 255)\n",
    "                #print(pixels[i, j])\n",
    "            else:\n",
    "                pixels[i, j] = (0,0,0)\n",
    "    \n",
    "    decoded_image.save(\"abc11.png\")\n",
    "\n",
    "\n",
    "def write_text(text_to_write, image_size):\n",
    "    \"\"\"\n",
    "    Writes text to an RGB image. Automatically line wraps\n",
    "    text_to_write: the text to write to the image\n",
    "    \"\"\"\n",
    "    image_text = Image.new(\"RGB\", image_size)\n",
    "    font = ImageFont.load_default().font\n",
    "    drawer = ImageDraw.Draw(image_text)\n",
    "    \n",
    "    #Text wrapping. Change parameters for different text formatting\n",
    "    margin = offset = 10\n",
    "    for line in textwrap.wrap(text_to_write, width=60):\n",
    "        drawer.text((margin,offset), line, font=font)\n",
    "        offset += 10\n",
    "    return image_text\n",
    "\n",
    "\n",
    "def encode_image(text_to_encode, template_image=\"flowers.jpg\"):\n",
    "    \"\"\"Encodes a text message into an image\n",
    "    text_to_encode: the text to encode into the template image\n",
    "    template_image: the image to use for encoding. An image is provided by default.\n",
    "    \"\"\"\n",
    "    template_image = Image.open(template_image)\n",
    "    red_template = template_image.split()[0]\n",
    "    green_template = template_image.split()[1]\n",
    "    blue_template = template_image.split()[2]\n",
    "    #the size of the image\n",
    "    x_size = template_image.size[0]\n",
    "    y_size = template_image.size[1]\n",
    "\n",
    "    #text draw\n",
    "    #to hide the text in the image by calling write_text function\n",
    "    image_text = write_text(text_to_encode, template_image.size)\n",
    "    print(image_text)\n",
    "    # convert the hidden text image into grayscale image\n",
    "    bw_encode = image_text.convert('1')\n",
    "    print(bw_encode)\n",
    "    \n",
    "    #encode text into image\n",
    "    encoded_image = Image.new(\"RGB\", (x_size, y_size))\n",
    "    pixels = encoded_image.load()\n",
    "    for i in range(x_size):\n",
    "        for j in range(y_size):\n",
    "            green_template_pix = bin(green_template.getpixel((i,j)))\n",
    "            #print(green_template_pix)\n",
    "            old_pix = green_template.getpixel((i,j))\n",
    "            #print(old_pix)\n",
    "            tencode_pix = bin(bw_encode.getpixel((i,j)))\n",
    "\n",
    "            if tencode_pix[-1] == '1':\n",
    "                green_template_pix = green_template_pix[:-1] + '1'\n",
    "            else:\n",
    "                green_template_pix = green_template_pix[:-1] + '0'\n",
    "            pixels[i, j] = (int(green_template_pix, 2), red_template.getpixel((i,j)), blue_template.getpixel((i,j)))\n",
    "    encoded_image.save(\"abc33.png\")\n",
    "\n",
    "if __name__ == '__main__':\n",
    "    #decode_image()\n",
    "    encode_image(\"hello world \")\n",
    "    decode_image()\n"
   ]
  },
  {
   "cell_type": "markdown",
   "metadata": {},
   "source": [
    "# PEAK SIGNAL NOISE RATIO OF COLORED IMAGE"
   ]
  },
  {
   "cell_type": "code",
   "execution_count": 60,
   "metadata": {},
   "outputs": [
    {
     "name": "stdout",
     "output_type": "stream",
     "text": [
      "29.512263773976123\n"
     ]
    }
   ],
   "source": [
    "\"\"\"\n",
    "Signal-to-noise ratio numbers are all about the strength of the desired signal compared to the unwanted noise.\n",
    "The larger the number, the more the desired signal “stands out” \n",
    "in comparison to the noise, which means a clearer transmission of better technical quality. \n",
    "A negative number means the noise is stronger than the desired signal, which may spell trouble, \n",
    "such as a cell phone conversation that’s too garbled to understand.\n",
    "\"\"\"\n",
    "import numpy \n",
    "import math\n",
    "import cv2\n",
    "original2 = cv2.imread(\"flowers.jpg\")\n",
    "contrast2 = cv2.imread(\"abc33.png\",1)#stego image\n",
    "def psnr(img1, img2):\n",
    "    mse = numpy.mean( (img1 - img2) ** 2 )\n",
    "    #If you have a replica of your signal (image) that is noise free, \n",
    "    #you can calculate the correlation coefficient which is directly related to SNR.\n",
    "    #In this context there is no \"maximum SNR\" but will be the SNR for your entire image, \n",
    "    #meaning the power of your desired signal relative to everything else (distortions).\n",
    "    if mse == 0:\n",
    "        return 100\n",
    "    PIXEL_MAX = 255.0\n",
    "    return 20 * math.log10(PIXEL_MAX / math.sqrt(mse))\n",
    "\n",
    "d=psnr(original2,contrast2)\n",
    "print(d)# unit is in power(watts)\n"
   ]
  },
  {
   "cell_type": "markdown",
   "metadata": {},
   "source": [
    "# CONCATENATION OF TWO COLORED IMAGE"
   ]
  },
  {
   "cell_type": "code",
   "execution_count": 61,
   "metadata": {},
   "outputs": [],
   "source": [
    "import numpy as np\n",
    "img=np.concatenate((original2,contrast2),axis=1)\n",
    "#display(img)\n",
    "cv2.imshow(\"concatenated image\",img)\n",
    "cv2.waitKey(0)\n",
    "cv2.destroyAllWindows()"
   ]
  },
  {
   "cell_type": "markdown",
   "metadata": {},
   "source": [
    "# On blue channel"
   ]
  },
  {
   "cell_type": "code",
   "execution_count": 62,
   "metadata": {},
   "outputs": [
    {
     "name": "stdout",
     "output_type": "stream",
     "text": [
      "<PIL.Image.Image image mode=RGB size=275x183 at 0x7493160>\n",
      "<PIL.Image.Image image mode=1 size=275x183 at 0x74B5CC0>\n"
     ]
    }
   ],
   "source": [
    "# libraries for importing image\n",
    "from PIL import Image, ImageFont, ImageDraw\n",
    "import textwrap\n",
    "\n",
    "\n",
    "def decode_image(file_location=\"abc22.png\"):\n",
    "    \"\"\"Decodes the hidden message in an image\n",
    "    file_location: the location of the image file to decode. By default is the provided encoded image in the images folder\n",
    "    \"\"\"\n",
    "    encoded_image = Image.open(file_location)\n",
    "    red_channel = encoded_image.split()[0]\n",
    "\n",
    "    x_size = encoded_image.size[0]\n",
    "    y_size = encoded_image.size[1]\n",
    "\n",
    "    decoded_image = Image.new(\"RGB\", encoded_image.size)\n",
    "    pixels = decoded_image.load()\n",
    "\n",
    "    for i in range(x_size):\n",
    "        for j in range(y_size):\n",
    "            if bin(red_channel.getpixel((i, j)))[-1] == '0':\n",
    "                pixels[i, j] = (255, 255, 255)\n",
    "                #print(pixels[i, j])\n",
    "            else:\n",
    "                pixels[i, j] = (0,0,0)\n",
    "    \n",
    "    decoded_image.save(\"abc44.png\")\n",
    "\n",
    "\n",
    "def write_text(text_to_write, image_size):\n",
    "    \"\"\"\n",
    "    Writes text to an RGB image. Automatically line wraps\n",
    "    text_to_write: the text to write to the image\n",
    "    \"\"\"\n",
    "    image_text = Image.new(\"RGB\", image_size)\n",
    "    font = ImageFont.load_default().font\n",
    "    drawer = ImageDraw.Draw(image_text)\n",
    "    \n",
    "    #Text wrapping. Change parameters for different text formatting\n",
    "    margin = offset = 10\n",
    "    for line in textwrap.wrap(text_to_write, width=60):\n",
    "        drawer.text((margin,offset), line, font=font)\n",
    "        offset += 10\n",
    "    return image_text\n",
    "\n",
    "\n",
    "def encode_image(text_to_encode, template_image=\"flowers.jpg\"):\n",
    "    \"\"\"Encodes a text message into an image\n",
    "    text_to_encode: the text to encode into the template image\n",
    "    template_image: the image to use for encoding. An image is provided by default.\n",
    "    \"\"\"\n",
    "    template_image = Image.open(template_image)\n",
    "    red_template = template_image.split()[0]\n",
    "    green_template = template_image.split()[1]\n",
    "    blue_template = template_image.split()[2]\n",
    "#the size of the image\n",
    "    x_size = template_image.size[0]\n",
    "    y_size = template_image.size[1]\n",
    "\n",
    "    #text draw\n",
    "    #to hide the text in the image by calling write_text function\n",
    "    image_text = write_text(text_to_encode, template_image.size)\n",
    "    print(image_text)\n",
    "    # convert the hidden text image into grayscale image\n",
    "    bw_encode = image_text.convert('1')\n",
    "    print(bw_encode)\n",
    "    \n",
    "    #encode text into image\n",
    "    encoded_image = Image.new(\"RGB\", (x_size, y_size))\n",
    "    pixels = encoded_image.load()\n",
    "    for i in range(x_size):\n",
    "        for j in range(y_size):\n",
    "            blue_template_pix = bin(blue_template.getpixel((i,j)))\n",
    "            #print(blue_template_pix)\n",
    "            old_pix = blue_template.getpixel((i,j))\n",
    "            #print(old_pix)\n",
    "            tencode_pix = bin(bw_encode.getpixel((i,j)))\n",
    "\n",
    "            if tencode_pix[-1] == '1':\n",
    "                blue_template_pix = blue_template_pix[:-1] + '1'\n",
    "            else:\n",
    "                blue_template_pix = blue_template_pix[:-1] + '0'\n",
    "            pixels[i, j] = (int(blue_template_pix, 2), red_template.getpixel((i,j)), green_template.getpixel((i,j)))\n",
    "    encoded_image.save(\"abc22.png\")\n",
    "\n",
    "if __name__ == '__main__':\n",
    "    #decode_image()\n",
    "    encode_image(\"hello world \")\n",
    "    decode_image()"
   ]
  },
  {
   "cell_type": "markdown",
   "metadata": {},
   "source": [
    "# PEAK SIGNAL NOISE RATIO OF COLORED IMAGE"
   ]
  },
  {
   "cell_type": "code",
   "execution_count": 63,
   "metadata": {},
   "outputs": [
    {
     "name": "stdout",
     "output_type": "stream",
     "text": [
      "27.947840414980337\n"
     ]
    }
   ],
   "source": [
    "\"\"\"\n",
    "Signal-to-noise ratio numbers are all about the strength of the desired signal compared to the unwanted noise.\n",
    "The larger the number, the more the desired signal “stands out” \n",
    "in comparison to the noise, which means a clearer transmission of better technical quality. \n",
    "A negative number means the noise is stronger than the desired signal, which may spell trouble, \n",
    "such as a cell phone conversation that’s too garbled to understand.\n",
    "\"\"\"\n",
    "import numpy \n",
    "import math\n",
    "import cv2\n",
    "original3= cv2.imread(\"flowers.jpg\")\n",
    "contrast3 = cv2.imread(\"abc22.png\",1)#stego image\n",
    "def psnr(img1, img2):\n",
    "    mse = numpy.mean( (img1 - img2) ** 2 )\n",
    "    #If you have a replica of your signal (image) that is noise free, \n",
    "    #you can calculate the correlation coefficient which is directly related to SNR.\n",
    "    #In this context there is no \"maximum SNR\" but will be the SNR for your entire image, \n",
    "    #meaning the power of your desired signal relative to everything else (distortions).\n",
    "    if mse == 0:\n",
    "        return 100\n",
    "    PIXEL_MAX = 255.0\n",
    "    return 20 * math.log10(PIXEL_MAX / math.sqrt(mse))\n",
    "\n",
    "d=psnr(original3,contrast3)\n",
    "print(d)# unit is in power(watts)\n"
   ]
  },
  {
   "cell_type": "markdown",
   "metadata": {},
   "source": [
    "# CONCATENATE TWO COLORED IMAGE"
   ]
  },
  {
   "cell_type": "code",
   "execution_count": 64,
   "metadata": {},
   "outputs": [],
   "source": [
    "import numpy as np\n",
    "img=np.concatenate((original3,contrast3),axis=1)\n",
    "#display(img)\n",
    "cv2.imshow(\"concatenated image\",img)\n",
    "cv2.waitKey(0)\n",
    "cv2.destroyAllWindows()"
   ]
  },
  {
   "cell_type": "markdown",
   "metadata": {},
   "source": [
    "# Second image"
   ]
  },
  {
   "cell_type": "markdown",
   "metadata": {},
   "source": [
    "# on red channel"
   ]
  },
  {
   "cell_type": "code",
   "execution_count": 25,
   "metadata": {},
   "outputs": [
    {
     "name": "stdout",
     "output_type": "stream",
     "text": [
      "<PIL.Image.Image image mode=RGB size=275x183 at 0x5AF1C50>\n",
      "<PIL.Image.Image image mode=1 size=275x183 at 0x5AEE908>\n"
     ]
    }
   ],
   "source": [
    "# libraries for importing image\n",
    "from PIL import Image, ImageFont, ImageDraw\n",
    "import textwrap\n",
    "\n",
    "def decode_image(file_location=\"color1.png\"):\n",
    "    \"\"\"Decodes the hidden message in an image\n",
    "    file_location: the location of the image file to decode. By default is the provided encoded image in the images folder\n",
    "    \"\"\"\n",
    "    encoded_image = Image.open(file_location)\n",
    "    red_channel = encoded_image.split()[0]\n",
    "\n",
    "    x_size = encoded_image.size[0]\n",
    "    y_size = encoded_image.size[1]\n",
    "\n",
    "    decoded_image = Image.new(\"RGB\", encoded_image.size)\n",
    "    pixels = decoded_image.load()\n",
    "\n",
    "    for i in range(x_size):\n",
    "        for j in range(y_size):\n",
    "            if bin(red_channel.getpixel((i, j)))[-1] == '0':\n",
    "                pixels[i, j] = (255, 255, 255)\n",
    "                #print(pixels[i, j])\n",
    "            else:\n",
    "                pixels[i, j] = (0,0,0)\n",
    "    decoded_image.save(\"color2.png\")\n",
    "\n",
    "def write_text(text_to_write, image_size):\n",
    "    \"\"\"\n",
    "    Writes text to an RGB image. Automatically line wraps\n",
    "    text_to_write: the text to write to the image\n",
    "    \"\"\"\n",
    "    image_text = Image.new(\"RGB\", image_size)\n",
    "    font = ImageFont.load_default().font\n",
    "    drawer = ImageDraw.Draw(image_text)\n",
    "    \n",
    "    #Text wrapping. Change parameters for different text formatting\n",
    "    margin = offset = 10\n",
    "    for line in textwrap.wrap(text_to_write, width=60):\n",
    "        drawer.text((margin,offset), line, font=font)\n",
    "        offset += 10\n",
    "    return image_text\n",
    "\n",
    "def encode_image(text_to_encode, template_image=\"color.jpg\"):\n",
    "    \"\"\"Encodes a text message into an image\n",
    "    text_to_encode: the text to encode into the template image\n",
    "    template_image: the image to use for encoding. An image is provided by default.\n",
    "    \"\"\"\n",
    "    template_image = Image.open(template_image)\n",
    "    red_template = template_image.split()[0]\n",
    "    green_template = template_image.split()[1]\n",
    "    blue_template = template_image.split()[2]\n",
    "#the size of the image\n",
    "    x_size = template_image.size[0]\n",
    "    y_size = template_image.size[1]\n",
    "\n",
    "    #text draw\n",
    "    #to hide the text in the image by calling write_text function\n",
    "    image_text = write_text(text_to_encode, template_image.size)\n",
    "    print(image_text)\n",
    "    # convert the hidden text image into grayscale image\n",
    "    bw_encode = image_text.convert('1')\n",
    "    print(bw_encode)\n",
    "    \n",
    "    #encode text into image\n",
    "    encoded_image = Image.new(\"RGB\", (x_size, y_size))\n",
    "    pixels = encoded_image.load()\n",
    "    for i in range(x_size):\n",
    "        for j in range(y_size):\n",
    "            red_template_pix = bin(red_template.getpixel((i,j)))\n",
    "            #print(red_template_pix)\n",
    "            old_pix = red_template.getpixel((i,j))\n",
    "            #print(old_pix)\n",
    "            tencode_pix = bin(bw_encode.getpixel((i,j)))\n",
    "\n",
    "            if tencode_pix[-1] == '1':\n",
    "                red_template_pix = red_template_pix[:-1] + '1'\n",
    "            else:\n",
    "                red_template_pix = red_template_pix[:-1] + '0'\n",
    "            pixels[i, j] = (int(red_template_pix, 2), green_template.getpixel((i,j)), blue_template.getpixel((i,j)))\n",
    "    encoded_image.save(\"color1.png\")\n",
    "\n",
    "if __name__ == '__main__':\n",
    "    #decode_image()\n",
    "    encode_image(\"hello world\")\n",
    "    decode_image()"
   ]
  },
  {
   "cell_type": "markdown",
   "metadata": {},
   "source": [
    "# PEAK SIGNAL NOISE RATIO OF COLORED IMAGE"
   ]
  },
  {
   "cell_type": "code",
   "execution_count": 26,
   "metadata": {},
   "outputs": [
    {
     "name": "stdout",
     "output_type": "stream",
     "text": [
      "56.04506587155725\n"
     ]
    }
   ],
   "source": [
    "\"\"\"\n",
    "Signal-to-noise ratio numbers are all about the strength of the desired signal compared to the unwanted noise.\n",
    "The larger the number, the more the desired signal “stands out” \n",
    "in comparison to the noise, which means a clearer transmission of better technical quality. \n",
    "A negative number means the noise is stronger than the desired signal, which may spell trouble, \n",
    "such as a cell phone conversation that’s too garbled to understand.\n",
    "\"\"\"\n",
    "import numpy \n",
    "import math\n",
    "import cv2\n",
    "original4 = cv2.imread(\"color.jpg\")\n",
    "contrast4 = cv2.imread(\"color1.png\",1)#stego image\n",
    "def psnr(img1, img2):\n",
    "    mse = numpy.mean( (img1 - img2) ** 2 )\n",
    "    #If you have a replica of your signal (image) that is noise free, \n",
    "    #you can calculate the correlation coefficient which is directly related to SNR.\n",
    "    #In this context there is no \"maximum SNR\" but will be the SNR for your entire image, \n",
    "    #meaning the power of your desired signal relative to everything else (distortions).\n",
    "    if mse == 0:\n",
    "        return 100\n",
    "    PIXEL_MAX = 255.0\n",
    "    return 20 * math.log10(PIXEL_MAX / math.sqrt(mse))\n",
    "\n",
    "d=psnr(original4,contrast4)\n",
    "print(d)# unit is in power(watts)\n"
   ]
  },
  {
   "cell_type": "markdown",
   "metadata": {},
   "source": [
    "# CONCATENATE TWO COLORED IMAGE"
   ]
  },
  {
   "cell_type": "code",
   "execution_count": 27,
   "metadata": {},
   "outputs": [],
   "source": [
    "import numpy as np\n",
    "img=np.concatenate((original4,contrast4),axis=1)\n",
    "#display(img)\n",
    "cv2.imshow(\"concatenated image\",img)\n",
    "cv2.waitKey(0)\n",
    "cv2.destroyAllWindows()"
   ]
  },
  {
   "cell_type": "markdown",
   "metadata": {},
   "source": [
    "# on green channel"
   ]
  },
  {
   "cell_type": "code",
   "execution_count": 65,
   "metadata": {},
   "outputs": [
    {
     "name": "stdout",
     "output_type": "stream",
     "text": [
      "<PIL.Image.Image image mode=RGB size=275x183 at 0x74A9320>\n",
      "<PIL.Image.Image image mode=1 size=275x183 at 0x5012898>\n"
     ]
    }
   ],
   "source": [
    "# libraries for importing image\n",
    "from PIL import Image, ImageFont, ImageDraw\n",
    "import textwrap\n",
    "\n",
    "\n",
    "def decode_image(file_location=\"color11.png\"):\n",
    "    \"\"\"Decodes the hidden message in an image\n",
    "    file_location: the location of the image file to decode. By default is the provided encoded image in the images folder\n",
    "    \"\"\"\n",
    "    encoded_image = Image.open(file_location)\n",
    "    red_channel = encoded_image.split()[0]\n",
    "\n",
    "    x_size = encoded_image.size[0]\n",
    "    y_size = encoded_image.size[1]\n",
    "\n",
    "    decoded_image = Image.new(\"RGB\", encoded_image.size)\n",
    "    pixels = decoded_image.load()\n",
    "\n",
    "    for i in range(x_size):\n",
    "        for j in range(y_size):\n",
    "            if bin(red_channel.getpixel((i, j)))[-1] == '0':\n",
    "                pixels[i, j] = (255, 255, 255)\n",
    "                #print(pixels[i, j])\n",
    "            else:\n",
    "                pixels[i, j] = (0,0,0)\n",
    "    \n",
    "    decoded_image.save(\"color22.png\")\n",
    "\n",
    "\n",
    "def write_text(text_to_write, image_size):\n",
    "    \"\"\"\n",
    "    Writes text to an RGB image. Automatically line wraps\n",
    "    text_to_write: the text to write to the image\n",
    "    \"\"\"\n",
    "    image_text = Image.new(\"RGB\", image_size)\n",
    "    font = ImageFont.load_default().font\n",
    "    drawer = ImageDraw.Draw(image_text)\n",
    "    \n",
    "    #Text wrapping. Change parameters for different text formatting\n",
    "    margin = offset = 10\n",
    "    for line in textwrap.wrap(text_to_write, width=60):\n",
    "        drawer.text((margin,offset), line, font=font)\n",
    "        offset += 10\n",
    "    return image_text\n",
    "\n",
    "\n",
    "def encode_image(text_to_encode, template_image=\"color.jpg\"):\n",
    "    \"\"\"Encodes a text message into an image\n",
    "    text_to_encode: the text to encode into the template image\n",
    "    template_image: the image to use for encoding. An image is provided by default.\n",
    "    \"\"\"\n",
    "    template_image = Image.open(template_image)\n",
    "    red_template = template_image.split()[0]\n",
    "    green_template = template_image.split()[1]\n",
    "    blue_template = template_image.split()[2]\n",
    "    #the size of the image\n",
    "    x_size = template_image.size[0]\n",
    "    y_size = template_image.size[1]\n",
    "\n",
    "    #text draw\n",
    "    #to hide the text in the image by calling write_text function\n",
    "    image_text = write_text(text_to_encode, template_image.size)\n",
    "    print(image_text)\n",
    "    # convert the hidden text image into grayscale image\n",
    "    bw_encode = image_text.convert('1')\n",
    "    print(bw_encode)\n",
    "    \n",
    "    #encode text into image\n",
    "    encoded_image = Image.new(\"RGB\", (x_size, y_size))\n",
    "    pixels = encoded_image.load()\n",
    "    for i in range(x_size):\n",
    "        for j in range(y_size):\n",
    "            green_template_pix = bin(green_template.getpixel((i,j)))\n",
    "            #print(green_template_pix)\n",
    "            old_pix = green_template.getpixel((i,j))\n",
    "            #print(old_pix)\n",
    "            tencode_pix = bin(bw_encode.getpixel((i,j)))\n",
    "            if tencode_pix[-1] == '1':\n",
    "                green_template_pix = green_template_pix[:-1] + '1'\n",
    "            else:\n",
    "                green_template_pix = green_template_pix[:-1] + '0'\n",
    "            pixels[i, j] = (int(green_template_pix, 2), red_template.getpixel((i,j)), blue_template.getpixel((i,j)))\n",
    "    encoded_image.save(\"color11.png\")\n",
    "\n",
    "if __name__ == '__main__':\n",
    "    #decode_image()\n",
    "    encode_image(\"hello world \")\n",
    "    decode_image()"
   ]
  },
  {
   "cell_type": "markdown",
   "metadata": {},
   "source": [
    "# PEAK SIGNAL NOISE RATIO OF COLORED IMAGE"
   ]
  },
  {
   "cell_type": "code",
   "execution_count": 66,
   "metadata": {},
   "outputs": [
    {
     "name": "stdout",
     "output_type": "stream",
     "text": [
      "29.83610608053706\n"
     ]
    }
   ],
   "source": [
    "\"\"\"\n",
    "Signal-to-noise ratio numbers are all about the strength of the desired signal compared to the unwanted noise.\n",
    "The larger the number, the more the desired signal “stands out” \n",
    "in comparison to the noise, which means a clearer transmission of better technical quality. \n",
    "A negative number means the noise is stronger than the desired signal, which may spell trouble, \n",
    "such as a cell phone conversation that’s too garbled to understand.\n",
    "\"\"\"\n",
    "import numpy \n",
    "import math\n",
    "import cv2\n",
    "original5 = cv2.imread(\"color.jpg\")\n",
    "contrast5 = cv2.imread(\"color11.png\",1)#stego image\n",
    "def psnr(img1, img2):\n",
    "    mse = numpy.mean( (img1 - img2) ** 2 )\n",
    "    #If you have a replica of your signal (image) that is noise free, \n",
    "    #you can calculate the correlation coefficient which is directly related to SNR.\n",
    "    #In this context there is no \"maximum SNR\" but will be the SNR for your entire image, \n",
    "    #meaning the power of your desired signal relative to everything else (distortions).\n",
    "    if mse == 0:\n",
    "        return 100\n",
    "    PIXEL_MAX = 255.0\n",
    "    return 20 * math.log10(PIXEL_MAX / math.sqrt(mse))\n",
    "\n",
    "d=psnr(original5,contrast5)\n",
    "print(d)# unit is in power(watts)\n"
   ]
  },
  {
   "cell_type": "markdown",
   "metadata": {},
   "source": [
    "# CONCATENATION OF TWO COLORED IMAGE"
   ]
  },
  {
   "cell_type": "code",
   "execution_count": 67,
   "metadata": {},
   "outputs": [],
   "source": [
    "import numpy as np\n",
    "img=np.concatenate((original5,contrast5),axis=1)\n",
    "#display(img)\n",
    "cv2.imshow(\"concatenated image\",img)\n",
    "cv2.waitKey(0)\n",
    "cv2.destroyAllWindows()"
   ]
  },
  {
   "cell_type": "markdown",
   "metadata": {},
   "source": [
    "# On blue channel"
   ]
  },
  {
   "cell_type": "code",
   "execution_count": 68,
   "metadata": {},
   "outputs": [
    {
     "name": "stdout",
     "output_type": "stream",
     "text": [
      "<PIL.Image.Image image mode=RGB size=275x183 at 0x74A97F0>\n",
      "<PIL.Image.Image image mode=1 size=275x183 at 0x62A7F28>\n"
     ]
    }
   ],
   "source": [
    "# libraries for importing image\n",
    "from PIL import Image, ImageFont, ImageDraw\n",
    "import textwrap\n",
    "\n",
    "\n",
    "def decode_image(file_location=\"color55.png\"):\n",
    "    \"\"\"Decodes the hidden message in an image\n",
    "    file_location: the location of the image file to decode. By default is the provided encoded image in the images folder\n",
    "    \"\"\"\n",
    "    encoded_image = Image.open(file_location)\n",
    "    red_channel = encoded_image.split()[0]\n",
    "\n",
    "    x_size = encoded_image.size[0]\n",
    "    y_size = encoded_image.size[1]\n",
    "\n",
    "    decoded_image = Image.new(\"RGB\", encoded_image.size)\n",
    "    pixels = decoded_image.load()\n",
    "\n",
    "    for i in range(x_size):\n",
    "        for j in range(y_size):\n",
    "            if bin(red_channel.getpixel((i, j)))[-1] == '0':\n",
    "                pixels[i, j] = (255, 255, 255)\n",
    "                #print(pixels[i, j])\n",
    "            else:\n",
    "                pixels[i, j] = (0,0,0)\n",
    "    \n",
    "    decoded_image.save(\"color66.png\")\n",
    "\n",
    "\n",
    "def write_text(text_to_write, image_size):\n",
    "    \"\"\"\n",
    "    Writes text to an RGB image. Automatically line wraps\n",
    "    text_to_write: the text to write to the image\n",
    "    \"\"\"\n",
    "    image_text = Image.new(\"RGB\", image_size)\n",
    "    font = ImageFont.load_default().font\n",
    "    drawer = ImageDraw.Draw(image_text)\n",
    "    \n",
    "    #Text wrapping. Change parameters for different text formatting\n",
    "    margin = offset = 10\n",
    "    for line in textwrap.wrap(text_to_write, width=60):\n",
    "        drawer.text((margin,offset), line, font=font)\n",
    "        offset += 10\n",
    "    return image_text\n",
    "\n",
    "\n",
    "def encode_image(text_to_encode, template_image=\"color.jpg\"):\n",
    "    \"\"\"Encodes a text message into an image\n",
    "    text_to_encode: the text to encode into the template image\n",
    "    template_image: the image to use for encoding. An image is provided by default.\n",
    "    \"\"\"\n",
    "    template_image = Image.open(template_image)\n",
    "    red_template = template_image.split()[0]\n",
    "    green_template = template_image.split()[1]\n",
    "    blue_template = template_image.split()[2]\n",
    "    #the size of the image\n",
    "    x_size = template_image.size[0]\n",
    "    y_size = template_image.size[1]\n",
    "\n",
    "    #text draw\n",
    "    #to hide the text in the image by calling write_text function\n",
    "    image_text = write_text(text_to_encode, template_image.size)\n",
    "    print(image_text)\n",
    "    # convert the hidden text image into grayscale image\n",
    "    bw_encode = image_text.convert('1')\n",
    "    print(bw_encode)\n",
    "    \n",
    "    #encode text into image\n",
    "    encoded_image = Image.new(\"RGB\", (x_size, y_size))\n",
    "    pixels = encoded_image.load()\n",
    "    for i in range(x_size):\n",
    "        for j in range(y_size):\n",
    "            blue_template_pix = bin(blue_template.getpixel((i,j)))\n",
    "            #print(blue_template_pix)\n",
    "            old_pix = blue_template.getpixel((i,j))\n",
    "            #print(old_pix)\n",
    "            tencode_pix = bin(bw_encode.getpixel((i,j)))\n",
    "            if tencode_pix[-1] == '1':\n",
    "                blue_template_pix = blue_template_pix[:-1] + '1'\n",
    "            else:\n",
    "                blue_template_pix = blue_template_pix[:-1] + '0'\n",
    "            pixels[i, j] = (int(blue_template_pix, 2), red_template.getpixel((i,j)), green_template.getpixel((i,j)))\n",
    "    encoded_image.save(\"color55.png\")\n",
    "\n",
    "if __name__ == '__main__':\n",
    "    #decode_image()\n",
    "    encode_image(\"hello world \")\n",
    "    decode_image()"
   ]
  },
  {
   "cell_type": "markdown",
   "metadata": {},
   "source": [
    "# PEAK SIGNAL NOISE RATIO OF COLORED IMAGE"
   ]
  },
  {
   "cell_type": "code",
   "execution_count": 69,
   "metadata": {},
   "outputs": [
    {
     "name": "stdout",
     "output_type": "stream",
     "text": [
      "27.920582928634374\n"
     ]
    }
   ],
   "source": [
    "\"\"\"\n",
    "Signal-to-noise ratio numbers are all about the strength of the desired signal compared to the unwanted noise.\n",
    "The larger the number, the more the desired signal “stands out” \n",
    "in comparison to the noise, which means a clearer transmission of better technical quality. \n",
    "A negative number means the noise is stronger than the desired signal, which may spell trouble, \n",
    "such as a cell phone conversation that’s too garbled to understand.\n",
    "\"\"\"\n",
    "import numpy \n",
    "import math\n",
    "import cv2\n",
    "original6= cv2.imread(\"color.jpg\")\n",
    "contrast6 = cv2.imread(\"color55.png\",1)#stego image\n",
    "def psnr(img1, img2):\n",
    "    mse = numpy.mean( (img1 - img2) ** 2 )\n",
    "    #If you have a replica of your signal (image) that is noise free, \n",
    "    #you can calculate the correlation coefficient which is directly related to SNR.\n",
    "    #In this context there is no \"maximum SNR\" but will be the SNR for your entire image, \n",
    "    #meaning the power of your desired signal relative to everything else (distortions).\n",
    "    if mse == 0:\n",
    "        return 100\n",
    "    PIXEL_MAX = 255.0\n",
    "    return 20 * math.log10(PIXEL_MAX / math.sqrt(mse))\n",
    "\n",
    "d=psnr(original6,contrast6)\n",
    "print(d)# unit is in power(watts)"
   ]
  },
  {
   "cell_type": "markdown",
   "metadata": {},
   "source": [
    "# CONCATENATION OF TWO COLORED IMAGE"
   ]
  },
  {
   "cell_type": "code",
   "execution_count": 70,
   "metadata": {},
   "outputs": [],
   "source": [
    "import numpy as np\n",
    "img=np.concatenate((original6,contrast6),axis=1)\n",
    "#display(img)\n",
    "cv2.imshow(\"concatenated image\",img)\n",
    "cv2.waitKey(0)\n",
    "cv2.destroyAllWindows()"
   ]
  },
  {
   "cell_type": "markdown",
   "metadata": {},
   "source": [
    "# Third image"
   ]
  },
  {
   "cell_type": "markdown",
   "metadata": {},
   "source": [
    "# on red channel"
   ]
  },
  {
   "cell_type": "code",
   "execution_count": 38,
   "metadata": {},
   "outputs": [
    {
     "name": "stdout",
     "output_type": "stream",
     "text": [
      "<PIL.Image.Image image mode=RGB size=266x189 at 0x62A7470>\n",
      "<PIL.Image.Image image mode=1 size=266x189 at 0x748F2B0>\n"
     ]
    }
   ],
   "source": [
    "# libraries for importing image\n",
    "from PIL import Image, ImageFont, ImageDraw\n",
    "import textwrap\n",
    "\n",
    "\n",
    "def decode_image(file_location=\"frog1.png\"):\n",
    "    \"\"\"Decodes the hidden message in an image\n",
    "    file_location: the location of the image file to decode. By default is the provided encoded image in the images folder\n",
    "    \"\"\"\n",
    "    encoded_image = Image.open(file_location)\n",
    "    red_channel = encoded_image.split()[0]\n",
    "\n",
    "    x_size = encoded_image.size[0]\n",
    "    y_size = encoded_image.size[1]\n",
    "\n",
    "    decoded_image = Image.new(\"RGB\", encoded_image.size)\n",
    "    pixels = decoded_image.load()\n",
    "\n",
    "    for i in range(x_size):\n",
    "        for j in range(y_size):\n",
    "            if bin(red_channel.getpixel((i, j)))[-1] == '0':\n",
    "                pixels[i, j] = (255, 255, 255)\n",
    "                #print(pixels[i, j])\n",
    "            else:\n",
    "                pixels[i, j] = (0,0,0)\n",
    "    \n",
    "    decoded_image.save(\"frog2.png\")\n",
    "\n",
    "\n",
    "def write_text(text_to_write, image_size):\n",
    "    \"\"\"\n",
    "    Writes text to an RGB image. Automatically line wraps\n",
    "    text_to_write: the text to write to the image\n",
    "    \"\"\"\n",
    "    image_text = Image.new(\"RGB\", image_size)\n",
    "    font = ImageFont.load_default().font\n",
    "    drawer = ImageDraw.Draw(image_text)\n",
    "    \n",
    "    #Text wrapping. Change parameters for different text formatting\n",
    "    margin = offset = 10\n",
    "    for line in textwrap.wrap(text_to_write, width=60):\n",
    "        drawer.text((margin,offset), line, font=font)\n",
    "        offset += 10\n",
    "    return image_text\n",
    "\n",
    "\n",
    "def encode_image(text_to_encode, template_image=\"frog.jpg\"):\n",
    "    \"\"\"Encodes a text message into an image\n",
    "    text_to_encode: the text to encode into the template image\n",
    "    template_image: the image to use for encoding. An image is provided by default.\n",
    "    \"\"\"\n",
    "    template_image = Image.open(template_image)\n",
    "    red_template = template_image.split()[0]\n",
    "    green_template = template_image.split()[1]\n",
    "    blue_template = template_image.split()[2]\n",
    "#the size of the image\n",
    "    x_size = template_image.size[0]\n",
    "    y_size = template_image.size[1]\n",
    "\n",
    "    #text draw\n",
    "    #to hide the text in the image by calling write_text function\n",
    "    image_text = write_text(text_to_encode, template_image.size)\n",
    "    print(image_text)\n",
    "    # convert the hidden text image into grayscale image\n",
    "    bw_encode = image_text.convert('1')\n",
    "    print(bw_encode)\n",
    "    \n",
    "    #encode text into image\n",
    "    encoded_image = Image.new(\"RGB\", (x_size, y_size))\n",
    "    pixels = encoded_image.load()\n",
    "    for i in range(x_size):\n",
    "        for j in range(y_size):\n",
    "            red_template_pix = bin(red_template.getpixel((i,j)))\n",
    "            #print(red_template_pix)\n",
    "            old_pix = red_template.getpixel((i,j))\n",
    "            #print(old_pix)\n",
    "            tencode_pix = bin(bw_encode.getpixel((i,j)))\n",
    "\n",
    "            if tencode_pix[-1] == '1':\n",
    "                red_template_pix = red_template_pix[:-1] + '1'\n",
    "            else:\n",
    "                red_template_pix = red_template_pix[:-1] + '0'\n",
    "            pixels[i, j] = (int(red_template_pix, 2), green_template.getpixel((i,j)), blue_template.getpixel((i,j)))\n",
    "    encoded_image.save(\"frog1.png\")\n",
    "\n",
    "if __name__ == '__main__':\n",
    "    #decode_image()\n",
    "    encode_image(\"hello world \")\n",
    "    decode_image()"
   ]
  },
  {
   "cell_type": "markdown",
   "metadata": {},
   "source": [
    "# PEAK SIGNAL NOISE RATIO OF COLORED IMAGE"
   ]
  },
  {
   "cell_type": "code",
   "execution_count": 39,
   "metadata": {},
   "outputs": [
    {
     "name": "stdout",
     "output_type": "stream",
     "text": [
      "56.95692185747936\n"
     ]
    }
   ],
   "source": [
    "\"\"\"\n",
    "Signal-to-noise ratio numbers are all about the strength of the desired signal compared to the unwanted noise.\n",
    "The larger the number, the more the desired signal “stands out” \n",
    "in comparison to the noise, which means a clearer transmission of better technical quality. \n",
    "A negative number means the noise is stronger than the desired signal, which may spell trouble, \n",
    "such as a cell phone conversation that’s too garbled to understand.\n",
    "\"\"\"\n",
    "import numpy \n",
    "import math\n",
    "import cv2\n",
    "original7= cv2.imread(\"frog.jpg\")\n",
    "contrast7 = cv2.imread(\"frog1.png\",1)#stego image\n",
    "def psnr(img1, img2):\n",
    "    mse = numpy.mean( (img1 - img2) ** 2 )\n",
    "    #If you have a replica of your signal (image) that is noise free, \n",
    "    #you can calculate the correlation coefficient which is directly related to SNR.\n",
    "    #In this context there is no \"maximum SNR\" but will be the SNR for your entire image, \n",
    "    #meaning the power of your desired signal relative to everything else (distortions).\n",
    "    if mse == 0:\n",
    "        return 100\n",
    "    PIXEL_MAX = 255.0\n",
    "    return 20 * math.log10(PIXEL_MAX / math.sqrt(mse))\n",
    "\n",
    "d=psnr(original7,contrast7)\n",
    "print(d)# unit is in power(watts)"
   ]
  },
  {
   "cell_type": "markdown",
   "metadata": {},
   "source": [
    "# CONCATENATED TWO COLORED IMAGE"
   ]
  },
  {
   "cell_type": "code",
   "execution_count": 40,
   "metadata": {},
   "outputs": [],
   "source": [
    "import numpy as np\n",
    "img=np.concatenate((original7,contrast7),axis=1)\n",
    "#display(img)\n",
    "cv2.imshow(\"concatenated image\",img)\n",
    "cv2.waitKey(0)\n",
    "cv2.destroyAllWindows()"
   ]
  },
  {
   "cell_type": "markdown",
   "metadata": {},
   "source": [
    "# On green channel"
   ]
  },
  {
   "cell_type": "code",
   "execution_count": 71,
   "metadata": {},
   "outputs": [
    {
     "name": "stdout",
     "output_type": "stream",
     "text": [
      "<PIL.Image.Image image mode=RGB size=266x189 at 0x74AE9B0>\n",
      "<PIL.Image.Image image mode=1 size=266x189 at 0x74A9630>\n"
     ]
    }
   ],
   "source": [
    "# libraries for importing image\n",
    "from PIL import Image, ImageFont, ImageDraw\n",
    "import textwrap\n",
    "\n",
    "\n",
    "def decode_image(file_location=\"frog11.png\"):\n",
    "    \"\"\"Decodes the hidden message in an image\n",
    "    file_location: the location of the image file to decode. By default is the provided encoded image in the images folder\n",
    "    \"\"\"\n",
    "    encoded_image = Image.open(file_location)\n",
    "    red_channel = encoded_image.split()[0]\n",
    "\n",
    "    x_size = encoded_image.size[0]\n",
    "    y_size = encoded_image.size[1]\n",
    "\n",
    "    decoded_image = Image.new(\"RGB\", encoded_image.size)\n",
    "    pixels = decoded_image.load()\n",
    "\n",
    "    for i in range(x_size):\n",
    "        for j in range(y_size):\n",
    "            if bin(red_channel.getpixel((i, j)))[-1] == '0':\n",
    "                pixels[i, j] = (255, 255, 255)\n",
    "                #print(pixels[i, j])\n",
    "            else:\n",
    "                pixels[i, j] = (0,0,0)\n",
    "    \n",
    "    decoded_image.save(\"frog22.png\")\n",
    "\n",
    "\n",
    "def write_text(text_to_write, image_size):\n",
    "    \"\"\"\n",
    "    Writes text to an RGB image. Automatically line wraps\n",
    "    text_to_write: the text to write to the image\n",
    "    \"\"\"\n",
    "    image_text = Image.new(\"RGB\", image_size)\n",
    "    font = ImageFont.load_default().font\n",
    "    drawer = ImageDraw.Draw(image_text)\n",
    "    \n",
    "    #Text wrapping. Change parameters for different text formatting\n",
    "    margin = offset = 10\n",
    "    for line in textwrap.wrap(text_to_write, width=60):\n",
    "        drawer.text((margin,offset), line, font=font)\n",
    "        offset += 10\n",
    "    return image_text\n",
    "\n",
    "\n",
    "def encode_image(text_to_encode, template_image=\"frog.jpg\"):\n",
    "    \"\"\"Encodes a text message into an image\n",
    "    text_to_encode: the text to encode into the template image\n",
    "    template_image: the image to use for encoding. An image is provided by default.\n",
    "    \"\"\"\n",
    "    template_image = Image.open(template_image)\n",
    "    red_template = template_image.split()[0]\n",
    "    green_template = template_image.split()[1]\n",
    "    blue_template = template_image.split()[2]\n",
    "    #the size of the image\n",
    "    x_size = template_image.size[0]\n",
    "    y_size = template_image.size[1]\n",
    "\n",
    "    #text draw\n",
    "    #to hide the text in the image by calling write_text function\n",
    "    image_text = write_text(text_to_encode, template_image.size)\n",
    "    print(image_text)\n",
    "    # convert the hidden text image into grayscale image\n",
    "    bw_encode = image_text.convert('1')\n",
    "    print(bw_encode)\n",
    "    \n",
    "    #encode text into image\n",
    "    encoded_image = Image.new(\"RGB\", (x_size, y_size))\n",
    "    pixels = encoded_image.load()\n",
    "    for i in range(x_size):\n",
    "        for j in range(y_size):\n",
    "            green_template_pix = bin(green_template.getpixel((i,j)))\n",
    "            #print(green_template_pix)\n",
    "            old_pix = green_template.getpixel((i,j))\n",
    "            #print(old_pix)\n",
    "            tencode_pix = bin(bw_encode.getpixel((i,j)))\n",
    "\n",
    "            if tencode_pix[-1] == '1':\n",
    "                green_template_pix = green_template_pix[:-1] + '1'\n",
    "            else:\n",
    "                green_template_pix = green_template_pix[:-1] + '0'\n",
    "            pixels[i, j] = (int(green_template_pix, 2), red_template.getpixel((i,j)), blue_template.getpixel((i,j)))\n",
    "    encoded_image.save(\"frog11.png\")\n",
    "\n",
    "if __name__ == '__main__':\n",
    "    #decode_image()\n",
    "    encode_image(\"hello world \")\n",
    "    decode_image()"
   ]
  },
  {
   "cell_type": "markdown",
   "metadata": {},
   "source": [
    "# PEAK SIGNAL NOISE RATIO OF COLORED IMAGE"
   ]
  },
  {
   "cell_type": "code",
   "execution_count": 72,
   "metadata": {},
   "outputs": [
    {
     "name": "stdout",
     "output_type": "stream",
     "text": [
      "28.687425394772053\n"
     ]
    }
   ],
   "source": [
    "\"\"\"\n",
    "Signal-to-noise ratio numbers are all about the strength of the desired signal compared to the unwanted noise.\n",
    "The larger the number, the more the desired signal “stands out” \n",
    "in comparison to the noise, which means a clearer transmission of better technical quality. \n",
    "A negative number means the noise is stronger than the desired signal, which may spell trouble, \n",
    "such as a cell phone conversation that’s too garbled to understand.\n",
    "\"\"\"\n",
    "import numpy \n",
    "import math\n",
    "import cv2\n",
    "original8= cv2.imread(\"frog.jpg\")\n",
    "contrast8 = cv2.imread(\"frog11.png\",1)#stego image\n",
    "def psnr(img1, img2):\n",
    "    mse = numpy.mean( (img1 - img2) ** 2 )\n",
    "    #If you have a replica of your signal (image) that is noise free, \n",
    "    #you can calculate the correlation coefficient which is directly related to SNR.\n",
    "    #In this context there is no \"maximum SNR\" but will be the SNR for your entire image, \n",
    "    #meaning the power of your desired signal relative to everything else (distortions).\n",
    "    if mse == 0:\n",
    "        return 100\n",
    "    PIXEL_MAX = 255.0\n",
    "    return 20 * math.log10(PIXEL_MAX / math.sqrt(mse))\n",
    "\n",
    "d=psnr(original8,contrast8)\n",
    "print(d)# unit is in power(watts)"
   ]
  },
  {
   "cell_type": "markdown",
   "metadata": {},
   "source": [
    "# CONCATENATION OF COLORED IMAGE"
   ]
  },
  {
   "cell_type": "code",
   "execution_count": 73,
   "metadata": {},
   "outputs": [],
   "source": [
    "import numpy as np\n",
    "img=np.concatenate((original8,contrast8),axis=1)\n",
    "#display(img)\n",
    "cv2.imshow(\"concatenated image\",img)\n",
    "cv2.waitKey(0)\n",
    "cv2.destroyAllWindows()"
   ]
  },
  {
   "cell_type": "markdown",
   "metadata": {},
   "source": [
    "# on blue channel"
   ]
  },
  {
   "cell_type": "code",
   "execution_count": 45,
   "metadata": {},
   "outputs": [
    {
     "name": "stdout",
     "output_type": "stream",
     "text": [
      "<PIL.Image.Image image mode=RGB size=266x189 at 0x74B5438>\n",
      "<PIL.Image.Image image mode=1 size=266x189 at 0x5E57898>\n"
     ]
    }
   ],
   "source": [
    "# libraries for importing image\n",
    "from PIL import Image, ImageFont, ImageDraw\n",
    "import textwrap\n",
    "\n",
    "\n",
    "def decode_image(file_location=\"frog14.png\"):\n",
    "    \"\"\"Decodes the hidden message in an image\n",
    "    file_location: the location of the image file to decode. By default is the provided encoded image in the images folder\n",
    "    \"\"\"\n",
    "    encoded_image = Image.open(file_location)\n",
    "    red_channel = encoded_image.split()[0]\n",
    "\n",
    "    x_size = encoded_image.size[0]\n",
    "    y_size = encoded_image.size[1]\n",
    "\n",
    "    decoded_image = Image.new(\"RGB\", encoded_image.size)\n",
    "    pixels = decoded_image.load()\n",
    "\n",
    "    for i in range(x_size):\n",
    "        for j in range(y_size):\n",
    "            if bin(red_channel.getpixel((i, j)))[-1] == '0':\n",
    "                pixels[i, j] = (255, 255, 255)\n",
    "                #print(pixels[i, j])\n",
    "            else:\n",
    "                pixels[i, j] = (0,0,0)\n",
    "    \n",
    "    decoded_image.save(\"frog24.png\")\n",
    "\n",
    "\n",
    "def write_text(text_to_write, image_size):\n",
    "    \"\"\"\n",
    "    Writes text to an RGB image. Automatically line wraps\n",
    "    text_to_write: the text to write to the image\n",
    "    \"\"\"\n",
    "    image_text = Image.new(\"RGB\", image_size)\n",
    "    font = ImageFont.load_default().font\n",
    "    drawer = ImageDraw.Draw(image_text)\n",
    "    \n",
    "    #Text wrapping. Change parameters for different text formatting\n",
    "    margin = offset = 10\n",
    "    for line in textwrap.wrap(text_to_write, width=60):\n",
    "        drawer.text((margin,offset), line, font=font)\n",
    "        offset += 10\n",
    "    return image_text\n",
    "\n",
    "\n",
    "def encode_image(text_to_encode, template_image=\"frog.jpg\"):\n",
    "    \"\"\"Encodes a text message into an image\n",
    "    text_to_encode: the text to encode into the template image\n",
    "    template_image: the image to use for encoding. An image is provided by default.\n",
    "    \"\"\"\n",
    "    template_image = Image.open(template_image)\n",
    "    red_template = template_image.split()[0]\n",
    "    green_template = template_image.split()[1]\n",
    "    blue_template = template_image.split()[2]\n",
    "#the size of the image\n",
    "    x_size = template_image.size[0]\n",
    "    y_size = template_image.size[1]\n",
    "\n",
    "    #text draw\n",
    "    #to hide the text in the image by calling write_text function\n",
    "    image_text = write_text(text_to_encode, template_image.size)\n",
    "    print(image_text)\n",
    "    # convert the hidden text image into grayscale image\n",
    "    bw_encode = image_text.convert('1')\n",
    "    print(bw_encode)\n",
    "    \n",
    "    #encode text into image\n",
    "    encoded_image = Image.new(\"RGB\", (x_size, y_size))\n",
    "    pixels = encoded_image.load()\n",
    "    for i in range(x_size):\n",
    "        for j in range(y_size):\n",
    "            blue_template_pix = bin(blue_template.getpixel((i,j)))\n",
    "            #print(blue_template_pix)\n",
    "            old_pix = blue_template.getpixel((i,j))\n",
    "            #print(old_pix)\n",
    "            tencode_pix = bin(bw_encode.getpixel((i,j)))\n",
    "\n",
    "            if tencode_pix[-1] == '1':\n",
    "                blue_template_pix = blue_template_pix[:-1] + '1'\n",
    "            else:\n",
    "                blue_template_pix = blue_template_pix[:-1] + '0'\n",
    "            pixels[i, j] = (int(blue_template_pix, 2), red_template.getpixel((i,j)), green_template.getpixel((i,j)))\n",
    "    encoded_image.save(\"frog14.png\")\n",
    "\n",
    "if __name__ == '__main__':\n",
    "    #decode_image()\n",
    "    encode_image(\"hello world \")\n",
    "    decode_image()"
   ]
  },
  {
   "cell_type": "markdown",
   "metadata": {},
   "source": [
    "# PEAK SIGNAL NOISE RATIO OF COLORED IMAGE"
   ]
  },
  {
   "cell_type": "code",
   "execution_count": 46,
   "metadata": {},
   "outputs": [
    {
     "name": "stdout",
     "output_type": "stream",
     "text": [
      "28.335508754803595\n"
     ]
    }
   ],
   "source": [
    "\"\"\"\n",
    "Signal-to-noise ratio numbers are all about the strength of the desired signal compared to the unwanted noise.\n",
    "The larger the number, the more the desired signal “stands out” \n",
    "in comparison to the noise, which means a clearer transmission of better technical quality. \n",
    "A negative number means the noise is stronger than the desired signal, which may spell trouble, \n",
    "such as a cell phone conversation that’s too garbled to understand.\n",
    "\"\"\"\n",
    "import numpy \n",
    "import math\n",
    "import cv2\n",
    "original9= cv2.imread(\"frog.jpg\")\n",
    "contrast9 = cv2.imread(\"frog14.png\",1)#stego image\n",
    "def psnr(img1, img2):\n",
    "    mse = numpy.mean( (img1 - img2) ** 2 )\n",
    "    #If you have a replica of your signal (image) that is noise free, \n",
    "    #you can calculate the correlation coefficient which is directly related to SNR.\n",
    "    #In this context there is no \"maximum SNR\" but will be the SNR for your entire image, \n",
    "    #meaning the power of your desired signal relative to everything else (distortions).\n",
    "    if mse == 0:\n",
    "        return 100\n",
    "    PIXEL_MAX = 255.0\n",
    "    return 20 * math.log10(PIXEL_MAX / math.sqrt(mse))\n",
    "\n",
    "d=psnr(original9,contrast9)\n",
    "print(d)# unit is in power(watts)"
   ]
  },
  {
   "cell_type": "markdown",
   "metadata": {},
   "source": [
    "# CONCATENATION OF TWO COLORED IMAGE"
   ]
  },
  {
   "cell_type": "code",
   "execution_count": 47,
   "metadata": {},
   "outputs": [],
   "source": [
    "import numpy as np\n",
    "img=np.concatenate((original9,contrast9),axis=1)\n",
    "#display(img)\n",
    "cv2.imshow(\"concatenated image\",img)\n",
    "cv2.waitKey(0)\n",
    "cv2.destroyAllWindows()"
   ]
  },
  {
   "cell_type": "markdown",
   "metadata": {},
   "source": [
    "# fourth image"
   ]
  },
  {
   "cell_type": "markdown",
   "metadata": {},
   "source": [
    "# On red channel"
   ]
  },
  {
   "cell_type": "code",
   "execution_count": 49,
   "metadata": {},
   "outputs": [
    {
     "name": "stdout",
     "output_type": "stream",
     "text": [
      "<PIL.Image.Image image mode=RGB size=183x275 at 0x74B5D30>\n",
      "<PIL.Image.Image image mode=1 size=183x275 at 0x74A3668>\n"
     ]
    }
   ],
   "source": [
    "# libraries for importing image\n",
    "from PIL import Image, ImageFont, ImageDraw\n",
    "import textwrap\n",
    "\n",
    "\n",
    "def decode_image(file_location=\"eye1.png\"):\n",
    "    \"\"\"Decodes the hidden message in an image\n",
    "    file_location: the location of the image file to decode. By default is the provided encoded image in the images folder\n",
    "    \"\"\"\n",
    "    encoded_image = Image.open(file_location)\n",
    "    red_channel = encoded_image.split()[0]\n",
    "\n",
    "    x_size = encoded_image.size[0]\n",
    "    y_size = encoded_image.size[1]\n",
    "\n",
    "    decoded_image = Image.new(\"RGB\", encoded_image.size)\n",
    "    pixels = decoded_image.load()\n",
    "\n",
    "    for i in range(x_size):\n",
    "        for j in range(y_size):\n",
    "            if bin(red_channel.getpixel((i, j)))[-1] == '0':\n",
    "                pixels[i, j] = (255, 255, 255)\n",
    "                #print(pixels[i, j])\n",
    "            else:\n",
    "                pixels[i, j] = (0,0,0)\n",
    "    \n",
    "    decoded_image.save(\"eye2.png\")\n",
    "\n",
    "\n",
    "def write_text(text_to_write, image_size):\n",
    "    \"\"\"\n",
    "    Writes text to an RGB image. Automatically line wraps\n",
    "    text_to_write: the text to write to the image\n",
    "    \"\"\"\n",
    "    image_text = Image.new(\"RGB\", image_size)\n",
    "    font = ImageFont.load_default().font\n",
    "    drawer = ImageDraw.Draw(image_text)\n",
    "    \n",
    "    #Text wrapping. Change parameters for different text formatting\n",
    "    margin = offset = 10\n",
    "    for line in textwrap.wrap(text_to_write, width=60):\n",
    "        drawer.text((margin,offset), line, font=font)\n",
    "        offset += 10\n",
    "    return image_text\n",
    "\n",
    "\n",
    "def encode_image(text_to_encode, template_image=\"eye.jpg\"):\n",
    "    \"\"\"Encodes a text message into an image\n",
    "    text_to_encode: the text to encode into the template image\n",
    "    template_image: the image to use for encoding. An image is provided by default.\n",
    "    \"\"\"\n",
    "    template_image = Image.open(template_image)\n",
    "    red_template = template_image.split()[0]\n",
    "    green_template = template_image.split()[1]\n",
    "    blue_template = template_image.split()[2]\n",
    "    #the size of the image\n",
    "    x_size = template_image.size[0]\n",
    "    y_size = template_image.size[1]\n",
    "\n",
    "    #text draw\n",
    "    #to hide the text in the image by calling write_text function\n",
    "    image_text = write_text(text_to_encode, template_image.size)\n",
    "    print(image_text)\n",
    "    # convert the hidden text image into grayscale image\n",
    "    bw_encode = image_text.convert('1')\n",
    "    print(bw_encode)\n",
    "    \n",
    "    #encode text into image\n",
    "    encoded_image = Image.new(\"RGB\", (x_size, y_size))\n",
    "    pixels = encoded_image.load()\n",
    "    for i in range(x_size):\n",
    "        for j in range(y_size):\n",
    "            red_template_pix = bin(red_template.getpixel((i,j)))\n",
    "            #print(red_template_pix)\n",
    "            old_pix = red_template.getpixel((i,j))\n",
    "            #print(old_pix)\n",
    "            tencode_pix = bin(bw_encode.getpixel((i,j)))\n",
    "\n",
    "            if tencode_pix[-1] == '1':\n",
    "                red_template_pix = red_template_pix[:-1] + '1'\n",
    "            else:\n",
    "                red_template_pix = red_template_pix[:-1] + '0'\n",
    "            pixels[i, j] = (int(red_template_pix, 2), green_template.getpixel((i,j)), blue_template.getpixel((i,j)))\n",
    "    encoded_image.save(\"eye1.png\")\n",
    "\n",
    "if __name__ == '__main__':\n",
    "    #decode_image()\n",
    "    encode_image(\"hello world \")\n",
    "    decode_image()"
   ]
  },
  {
   "cell_type": "markdown",
   "metadata": {},
   "source": [
    "# PEAK SIGNAL NOISE RATIO"
   ]
  },
  {
   "cell_type": "code",
   "execution_count": 50,
   "metadata": {},
   "outputs": [
    {
     "name": "stdout",
     "output_type": "stream",
     "text": [
      "42.986146474006475\n"
     ]
    }
   ],
   "source": [
    "\"\"\"\n",
    "Signal-to-noise ratio numbers are all about the strength of the desired signal compared to the unwanted noise.\n",
    "The larger the number, the more the desired signal “stands out” \n",
    "in comparison to the noise, which means a clearer transmission of better technical quality. \n",
    "A negative number means the noise is stronger than the desired signal, which may spell trouble, \n",
    "such as a cell phone conversation that’s too garbled to understand.\n",
    "\"\"\"\n",
    "import numpy \n",
    "import math\n",
    "import cv2\n",
    "original10= cv2.imread(\"eye.jpg\")\n",
    "contrast10 = cv2.imread(\"eye1.png\",1)#stego image\n",
    "def psnr(img1, img2):\n",
    "    mse = numpy.mean( (img1 - img2) ** 2 )\n",
    "    #If you have a replica of your signal (image) that is noise free, \n",
    "    #you can calculate the correlation coefficient which is directly related to SNR.\n",
    "    #In this context there is no \"maximum SNR\" but will be the SNR for your entire image, \n",
    "    #meaning the power of your desired signal relative to everything else (distortions).\n",
    "    if mse == 0:\n",
    "        return 100\n",
    "    PIXEL_MAX = 255.0\n",
    "    return 20 * math.log10(PIXEL_MAX / math.sqrt(mse))\n",
    "\n",
    "d=psnr(original10,contrast10)\n",
    "print(d)# unit is in power(watts)"
   ]
  },
  {
   "cell_type": "markdown",
   "metadata": {},
   "source": [
    "# CONCATENATION OF TWO COLORED IMAGE"
   ]
  },
  {
   "cell_type": "code",
   "execution_count": 51,
   "metadata": {},
   "outputs": [],
   "source": [
    "import numpy as np\n",
    "img=np.concatenate((original10,contrast10),axis=1)\n",
    "#display(img)\n",
    "cv2.imshow(\"concatenated image\",img)\n",
    "cv2.waitKey(0)\n",
    "cv2.destroyAllWindows()"
   ]
  },
  {
   "cell_type": "markdown",
   "metadata": {},
   "source": [
    "# on green channel"
   ]
  },
  {
   "cell_type": "code",
   "execution_count": 52,
   "metadata": {},
   "outputs": [
    {
     "name": "stdout",
     "output_type": "stream",
     "text": [
      "<PIL.Image.Image image mode=RGB size=183x275 at 0x749FEF0>\n",
      "<PIL.Image.Image image mode=1 size=183x275 at 0x748F908>\n"
     ]
    }
   ],
   "source": [
    "# libraries for importing image\n",
    "from PIL import Image, ImageFont, ImageDraw\n",
    "import textwrap\n",
    "\n",
    "\n",
    "def decode_image(file_location=\"eye11.png\"):\n",
    "    \"\"\"Decodes the hidden message in an image\n",
    "    file_location: the location of the image file to decode. By default is the provided encoded image in the images folder\n",
    "    \"\"\"\n",
    "    encoded_image = Image.open(file_location)\n",
    "    red_channel = encoded_image.split()[0]\n",
    "\n",
    "    x_size = encoded_image.size[0]\n",
    "    y_size = encoded_image.size[1]\n",
    "\n",
    "    decoded_image = Image.new(\"RGB\", encoded_image.size)\n",
    "    pixels = decoded_image.load()\n",
    "\n",
    "    for i in range(x_size):\n",
    "        for j in range(y_size):\n",
    "            if bin(red_channel.getpixel((i, j)))[-1] == '0':\n",
    "                pixels[i, j] = (255, 255, 255)\n",
    "                #print(pixels[i, j])\n",
    "            else:\n",
    "                pixels[i, j] = (0,0,0)\n",
    "    \n",
    "    decoded_image.save(\"eye22.png\")\n",
    "\n",
    "\n",
    "def write_text(text_to_write, image_size):\n",
    "    \"\"\"\n",
    "    Writes text to an RGB image. Automatically line wraps\n",
    "    text_to_write: the text to write to the image\n",
    "    \"\"\"\n",
    "    image_text = Image.new(\"RGB\", image_size)\n",
    "    font = ImageFont.load_default().font\n",
    "    drawer = ImageDraw.Draw(image_text)\n",
    "    \n",
    "    #Text wrapping. Change parameters for different text formatting\n",
    "    margin = offset = 10\n",
    "    for line in textwrap.wrap(text_to_write, width=60):\n",
    "        drawer.text((margin,offset), line, font=font)\n",
    "        offset += 10\n",
    "    return image_text\n",
    "\n",
    "\n",
    "def encode_image(text_to_encode, template_image=\"eye.jpg\"):\n",
    "    \"\"\"Encodes a text message into an image\n",
    "    text_to_encode: the text to encode into the template image\n",
    "    template_image: the image to use for encoding. An image is provided by default.\n",
    "    \"\"\"\n",
    "    template_image = Image.open(template_image)\n",
    "    red_template = template_image.split()[0]\n",
    "    green_template = template_image.split()[1]\n",
    "    blue_template = template_image.split()[2]\n",
    "#the size of the image\n",
    "    x_size = template_image.size[0]\n",
    "    y_size = template_image.size[1]\n",
    "\n",
    "    #text draw\n",
    "    #to hide the text in the image by calling write_text function\n",
    "    image_text = write_text(text_to_encode, template_image.size)\n",
    "    print(image_text)\n",
    "    # convert the hidden text image into grayscale image\n",
    "    bw_encode = image_text.convert('1')\n",
    "    print(bw_encode)\n",
    "    \n",
    "    #encode text into image\n",
    "    encoded_image = Image.new(\"RGB\", (x_size, y_size))\n",
    "    pixels = encoded_image.load()\n",
    "    for i in range(x_size):\n",
    "        for j in range(y_size):\n",
    "            green_template_pix = bin(green_template.getpixel((i,j)))\n",
    "            #print(green_template_pix)\n",
    "            old_pix = green_template.getpixel((i,j))\n",
    "            #print(old_pix)\n",
    "            tencode_pix = bin(bw_encode.getpixel((i,j)))\n",
    "\n",
    "            if tencode_pix[-1] == '1':\n",
    "                green_template_pix = green_template_pix[:-1] + '1'\n",
    "            else:\n",
    "                green_template_pix = green_template_pix[:-1] + '0'\n",
    "            pixels[i, j] = (int(green_template_pix, 2), red_template.getpixel((i,j)), blue_template.getpixel((i,j)))\n",
    "    encoded_image.save(\"eye11.png\")\n",
    "\n",
    "if __name__ == '__main__':\n",
    "    #decode_image()\n",
    "    encode_image(\"hello world \")\n",
    "    decode_image()"
   ]
  },
  {
   "cell_type": "markdown",
   "metadata": {},
   "source": [
    "# PEAK SIGNAL NOISE RATIO OF COLORED IMAGE"
   ]
  },
  {
   "cell_type": "code",
   "execution_count": 53,
   "metadata": {},
   "outputs": [
    {
     "name": "stdout",
     "output_type": "stream",
     "text": [
      "29.931736460248857\n"
     ]
    }
   ],
   "source": [
    "\"\"\"\n",
    "Signal-to-noise ratio numbers are all about the strength of the desired signal compared to the unwanted noise.\n",
    "The larger the number, the more the desired signal “stands out” \n",
    "in comparison to the noise, which means a clearer transmission of better technical quality. \n",
    "A negative number means the noise is stronger than the desired signal, which may spell trouble, \n",
    "such as a cell phone conversation that’s too garbled to understand.\n",
    "\"\"\"\n",
    "import numpy \n",
    "import math\n",
    "import cv2\n",
    "original11= cv2.imread(\"eye.jpg\")\n",
    "contrast11 = cv2.imread(\"eye11.png\",1)#stego image\n",
    "def psnr(img1, img2):\n",
    "    mse = numpy.mean( (img1 - img2) ** 2 )\n",
    "    #If you have a replica of your signal (image) that is noise free, \n",
    "    #you can calculate the correlation coefficient which is directly related to SNR.\n",
    "    #In this context there is no \"maximum SNR\" but will be the SNR for your entire image, \n",
    "    #meaning the power of your desired signal relative to everything else (distortions).\n",
    "    if mse == 0:\n",
    "        return 100\n",
    "    PIXEL_MAX = 255.0\n",
    "    return 20 * math.log10(PIXEL_MAX / math.sqrt(mse))\n",
    "\n",
    "d=psnr(original11,contrast11)\n",
    "print(d)# unit is in power(watts)"
   ]
  },
  {
   "cell_type": "markdown",
   "metadata": {},
   "source": [
    "# CONCATENATED TWO COLORED IMAGE"
   ]
  },
  {
   "cell_type": "code",
   "execution_count": 54,
   "metadata": {},
   "outputs": [],
   "source": [
    "import numpy as np\n",
    "img=np.concatenate((original11,contrast11),axis=1)\n",
    "#display(img)\n",
    "cv2.imshow(\"concatenated image\",img)\n",
    "cv2.waitKey(0)\n",
    "cv2.destroyAllWindows()"
   ]
  },
  {
   "cell_type": "markdown",
   "metadata": {},
   "source": [
    "# on blue channel"
   ]
  },
  {
   "cell_type": "code",
   "execution_count": 55,
   "metadata": {},
   "outputs": [
    {
     "name": "stdout",
     "output_type": "stream",
     "text": [
      "<PIL.Image.Image image mode=RGB size=183x275 at 0x74B54E0>\n",
      "<PIL.Image.Image image mode=1 size=183x275 at 0x74A9FD0>\n"
     ]
    }
   ],
   "source": [
    "# libraries for importing image\n",
    "from PIL import Image, ImageFont, ImageDraw\n",
    "import textwrap\n",
    "\n",
    "\n",
    "def decode_image(file_location=\"eye14.png\"):\n",
    "    \"\"\"Decodes the hidden message in an image\n",
    "    file_location: the location of the image file to decode. By default is the provided encoded image in the images folder\n",
    "    \"\"\"\n",
    "    encoded_image = Image.open(file_location)\n",
    "    red_channel = encoded_image.split()[0]\n",
    "\n",
    "    x_size = encoded_image.size[0]\n",
    "    y_size = encoded_image.size[1]\n",
    "\n",
    "    decoded_image = Image.new(\"RGB\", encoded_image.size)\n",
    "    pixels = decoded_image.load()\n",
    "\n",
    "    for i in range(x_size):\n",
    "        for j in range(y_size):\n",
    "            if bin(red_channel.getpixel((i, j)))[-1] == '0':\n",
    "                pixels[i, j] = (255, 255, 255)\n",
    "                #print(pixels[i, j])\n",
    "            else:\n",
    "                pixels[i, j] = (0,0,0)\n",
    "    \n",
    "    decoded_image.save(\"eye24.png\")\n",
    "\n",
    "\n",
    "def write_text(text_to_write, image_size):\n",
    "    \"\"\"\n",
    "    Writes text to an RGB image. Automatically line wraps\n",
    "    text_to_write: the text to write to the image\n",
    "    \"\"\"\n",
    "    image_text = Image.new(\"RGB\", image_size)\n",
    "    font = ImageFont.load_default().font\n",
    "    drawer = ImageDraw.Draw(image_text)\n",
    "    \n",
    "    #Text wrapping. Change parameters for different text formatting\n",
    "    margin = offset = 10\n",
    "    for line in textwrap.wrap(text_to_write, width=60):\n",
    "        drawer.text((margin,offset), line, font=font)\n",
    "        offset += 10\n",
    "    return image_text\n",
    "\n",
    "\n",
    "def encode_image(text_to_encode, template_image=\"eye.jpg\"):\n",
    "    \"\"\"Encodes a text message into an image\n",
    "    text_to_encode: the text to encode into the template image\n",
    "    template_image: the image to use for encoding. An image is provided by default.\n",
    "    \"\"\"\n",
    "    template_image = Image.open(template_image)\n",
    "    red_template = template_image.split()[0]\n",
    "    green_template = template_image.split()[1]\n",
    "    blue_template = template_image.split()[2]\n",
    "#the size of the image\n",
    "    x_size = template_image.size[0]\n",
    "    y_size = template_image.size[1]\n",
    "\n",
    "    #text draw\n",
    "    #to hide the text in the image by calling write_text function\n",
    "    image_text = write_text(text_to_encode, template_image.size)\n",
    "    print(image_text)\n",
    "    # convert the hidden text image into grayscale image\n",
    "    bw_encode = image_text.convert('1')\n",
    "    print(bw_encode)\n",
    "    \n",
    "    #encode text into image\n",
    "    encoded_image = Image.new(\"RGB\", (x_size, y_size))\n",
    "    pixels = encoded_image.load()\n",
    "    for i in range(x_size):\n",
    "        for j in range(y_size):\n",
    "            blue_template_pix = bin(blue_template.getpixel((i,j)))\n",
    "            #print(blue_template_pix)\n",
    "            old_pix = blue_template.getpixel((i,j))\n",
    "            #print(old_pix)\n",
    "            tencode_pix = bin(bw_encode.getpixel((i,j)))\n",
    "\n",
    "            if tencode_pix[-1] == '1':\n",
    "                blue_template_pix = blue_template_pix[:-1] + '1'\n",
    "            else:\n",
    "                blue_template_pix = blue_template_pix[:-1] + '0'\n",
    "            pixels[i, j] = (int(blue_template_pix, 2), red_template.getpixel((i,j)), green_template.getpixel((i,j)))\n",
    "    encoded_image.save(\"eye14.png\")\n",
    "\n",
    "if __name__ == '__main__':\n",
    "    #decode_image()\n",
    "    encode_image(\"hello world \")\n",
    "    decode_image()"
   ]
  },
  {
   "cell_type": "markdown",
   "metadata": {},
   "source": [
    "# PEAK SIGNAL NOISE RATIO OF COLORED IMAGE"
   ]
  },
  {
   "cell_type": "code",
   "execution_count": 56,
   "metadata": {},
   "outputs": [
    {
     "name": "stdout",
     "output_type": "stream",
     "text": [
      "28.226485413035252\n"
     ]
    }
   ],
   "source": [
    "\"\"\"\n",
    "Signal-to-noise ratio numbers are all about the strength of the desired signal compared to the unwanted noise.\n",
    "The larger the number, the more the desired signal “stands out” \n",
    "in comparison to the noise, which means a clearer transmission of better technical quality. \n",
    "A negative number means the noise is stronger than the desired signal, which may spell trouble, \n",
    "such as a cell phone conversation that’s too garbled to understand.\n",
    "\"\"\"\n",
    "import numpy \n",
    "import math\n",
    "import cv2\n",
    "original12= cv2.imread(\"eye.jpg\")\n",
    "contrast12= cv2.imread(\"eye14.png\",1)#stego image\n",
    "def psnr(img1, img2):\n",
    "    mse = numpy.mean( (img1 - img2) ** 2 )\n",
    "    #If you have a replica of your signal (image) that is noise free, \n",
    "    #you can calculate the correlation coefficient which is directly related to SNR.\n",
    "    #In this context there is no \"maximum SNR\" but will be the SNR for your entire image, \n",
    "    #meaning the power of your desired signal relative to everything else (distortions).\n",
    "    if mse == 0:\n",
    "        return 100\n",
    "    PIXEL_MAX = 255.0\n",
    "    return 20 * math.log10(PIXEL_MAX / math.sqrt(mse))\n",
    "\n",
    "d=psnr(original12,contrast12)\n",
    "print(d)# unit is in power(watts)"
   ]
  },
  {
   "cell_type": "markdown",
   "metadata": {},
   "source": [
    "# CONCATENATED TWO COLORED IMAGE"
   ]
  },
  {
   "cell_type": "code",
   "execution_count": 58,
   "metadata": {},
   "outputs": [],
   "source": [
    "import numpy as np\n",
    "img=np.concatenate((original12,contrast12),axis=1)\n",
    "#display(img)\n",
    "cv2.imshow(\"concatenated image\",img)\n",
    "cv2.waitKey(0)\n",
    "cv2.destroyAllWindows()"
   ]
  },
  {
   "cell_type": "code",
   "execution_count": null,
   "metadata": {},
   "outputs": [],
   "source": []
  }
 ],
 "metadata": {
  "kernelspec": {
   "display_name": "Python 3",
   "language": "python",
   "name": "python3"
  },
  "language_info": {
   "codemirror_mode": {
    "name": "ipython",
    "version": 3
   },
   "file_extension": ".py",
   "mimetype": "text/x-python",
   "name": "python",
   "nbconvert_exporter": "python",
   "pygments_lexer": "ipython3",
   "version": "3.7.0"
  }
 },
 "nbformat": 4,
 "nbformat_minor": 2
}
